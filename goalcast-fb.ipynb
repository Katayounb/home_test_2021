{
 "cells": [
  {
   "cell_type": "code",
   "execution_count": 1,
   "metadata": {},
   "outputs": [],
   "source": [
    "#!conda install -c conda-forge fbprophet -y\n"
   ]
  },
  {
   "cell_type": "code",
   "execution_count": 2,
   "metadata": {},
   "outputs": [],
   "source": [
    " #conda update -n base -c defaults conda"
   ]
  },
  {
   "cell_type": "code",
   "execution_count": 5,
   "metadata": {},
   "outputs": [
    {
     "name": "stdout",
     "output_type": "stream",
     "text": [
      "Requirement already satisfied: pystan==2.19.1.1 in c:\\users\\katay\\anaconda3\\lib\\site-packages (2.19.1.1)\n",
      "Collecting prophet\n",
      "  Using cached https://files.pythonhosted.org/packages/f0/fa/c382f0ac5abe9f0a4df9d874a5e8843db035fe2f071b5c00a545b1e3c10b/prophet-1.0.1.tar.gz\n",
      "Requirement already satisfied: Cython!=0.25.1,>=0.22 in c:\\users\\katay\\anaconda3\\lib\\site-packages (from pystan==2.19.1.1) (0.29.12)\n",
      "Requirement already satisfied: numpy>=1.7 in c:\\users\\katay\\anaconda3\\lib\\site-packages (from pystan==2.19.1.1) (1.18.1)\n",
      "Requirement already satisfied: cmdstanpy==0.9.68 in c:\\users\\katay\\anaconda3\\lib\\site-packages (from prophet) (0.9.68)\n",
      "Requirement already satisfied: pandas>=1.0.4 in c:\\users\\katay\\anaconda3\\lib\\site-packages (from prophet) (1.3.4)\n",
      "Requirement already satisfied: matplotlib>=2.0.0 in c:\\users\\katay\\anaconda3\\lib\\site-packages (from prophet) (3.1.0)\n",
      "Requirement already satisfied: LunarCalendar>=0.0.9 in c:\\users\\katay\\anaconda3\\lib\\site-packages (from prophet) (0.0.9)\n",
      "Requirement already satisfied: convertdate>=2.1.2 in c:\\users\\katay\\anaconda3\\lib\\site-packages (from prophet) (2.3.2)\n",
      "Requirement already satisfied: holidays>=0.10.2 in c:\\users\\katay\\anaconda3\\lib\\site-packages (from prophet) (0.11.3.1)\n",
      "Requirement already satisfied: setuptools-git>=1.2 in c:\\users\\katay\\anaconda3\\lib\\site-packages (from prophet) (1.2)\n",
      "Requirement already satisfied: python-dateutil>=2.8.0 in c:\\users\\katay\\anaconda3\\lib\\site-packages (from prophet) (2.8.0)\n",
      "Requirement already satisfied: tqdm>=4.36.1 in c:\\users\\katay\\anaconda3\\lib\\site-packages (from prophet) (4.62.3)\n",
      "Requirement already satisfied: ujson in c:\\users\\katay\\anaconda3\\lib\\site-packages (from cmdstanpy==0.9.68->prophet) (4.2.0)\n",
      "Requirement already satisfied: pytz>=2017.3 in c:\\users\\katay\\anaconda3\\lib\\site-packages (from pandas>=1.0.4->prophet) (2019.1)\n",
      "Requirement already satisfied: cycler>=0.10 in c:\\users\\katay\\anaconda3\\lib\\site-packages (from matplotlib>=2.0.0->prophet) (0.10.0)\n",
      "Requirement already satisfied: kiwisolver>=1.0.1 in c:\\users\\katay\\anaconda3\\lib\\site-packages (from matplotlib>=2.0.0->prophet) (1.1.0)\n",
      "Requirement already satisfied: pyparsing!=2.0.4,!=2.1.2,!=2.1.6,>=2.0.1 in c:\\users\\katay\\anaconda3\\lib\\site-packages (from matplotlib>=2.0.0->prophet) (3.0.6)\n",
      "Requirement already satisfied: ephem>=3.7.5.3 in c:\\users\\katay\\anaconda3\\lib\\site-packages (from LunarCalendar>=0.0.9->prophet) (4.1)\n",
      "Requirement already satisfied: pymeeus<=1,>=0.3.13 in c:\\users\\katay\\anaconda3\\lib\\site-packages (from convertdate>=2.1.2->prophet) (0.5.11)\n",
      "Requirement already satisfied: hijri-converter in c:\\users\\katay\\anaconda3\\lib\\site-packages (from holidays>=0.10.2->prophet) (2.2.2)\n",
      "Requirement already satisfied: korean-lunar-calendar in c:\\users\\katay\\anaconda3\\lib\\site-packages (from holidays>=0.10.2->prophet) (0.2.1)\n",
      "Requirement already satisfied: six>=1.5 in c:\\users\\katay\\anaconda3\\lib\\site-packages (from python-dateutil>=2.8.0->prophet) (1.12.0)\n",
      "Requirement already satisfied: colorama; platform_system == \"Windows\" in c:\\users\\katay\\anaconda3\\lib\\site-packages (from tqdm>=4.36.1->prophet) (0.4.1)\n",
      "Requirement already satisfied: setuptools in c:\\users\\katay\\anaconda3\\lib\\site-packages (from kiwisolver>=1.0.1->matplotlib>=2.0.0->prophet) (45.2.0)\n",
      "Building wheels for collected packages: prophet\n",
      "  Building wheel for prophet (setup.py): started\n",
      "  Building wheel for prophet (setup.py): finished with status 'error'\n",
      "  Running setup.py clean for prophet\n",
      "Failed to build prophet\n",
      "Installing collected packages: prophet\n",
      "  Running setup.py install for prophet: started\n",
      "    Running setup.py install for prophet: finished with status 'error'\n"
     ]
    },
    {
     "name": "stderr",
     "output_type": "stream",
     "text": [
      "  ERROR: Complete output from command 'C:\\Users\\katay\\Anaconda3\\python.exe' -u -c 'import setuptools, tokenize;__file__='\"'\"'C:\\\\Users\\\\katay\\\\AppData\\\\Local\\\\Temp\\\\pip-install-lim5jn8_\\\\prophet\\\\setup.py'\"'\"';f=getattr(tokenize, '\"'\"'open'\"'\"', open)(__file__);code=f.read().replace('\"'\"'\\r\\n'\"'\"', '\"'\"'\\n'\"'\"');f.close();exec(compile(code, __file__, '\"'\"'exec'\"'\"'))' bdist_wheel -d 'C:\\Users\\katay\\AppData\\Local\\Temp\\pip-wheel-xtyk1iwf' --python-tag cp37:\n",
      "  ERROR: running bdist_wheel\n",
      "  running build\n",
      "  running build_py\n",
      "  creating build\n",
      "  creating build\\lib\n",
      "  creating build\\lib\\prophet\n",
      "  creating build\\lib\\prophet\\stan_model\n",
      "  C:\\Users\\katay\\Anaconda3\\lib\\site-packages\\pandas\\compat\\_optional.py:138: UserWarning: Pandas requires version '2.7.0' or newer of 'numexpr' (version '2.6.9' currently installed).\n",
      "    warnings.warn(msg, UserWarning)\n",
      "  INFO:pystan:COMPILING THE C++ CODE FOR MODEL anon_model_f5236004a3fd5b8429270d00efcc0cf9 NOW.\n",
      "  WARNING:pystan:MSVC compiler is not supported\n",
      "  error: Microsoft Visual C++ 14.0 is required. Get it with \"Build Tools for Visual Studio\": https://visualstudio.microsoft.com/downloads/\n",
      "  ----------------------------------------\n",
      "  ERROR: Failed building wheel for prophet\n",
      "    ERROR: Complete output from command 'C:\\Users\\katay\\Anaconda3\\python.exe' -u -c 'import setuptools, tokenize;__file__='\"'\"'C:\\\\Users\\\\katay\\\\AppData\\\\Local\\\\Temp\\\\pip-install-lim5jn8_\\\\prophet\\\\setup.py'\"'\"';f=getattr(tokenize, '\"'\"'open'\"'\"', open)(__file__);code=f.read().replace('\"'\"'\\r\\n'\"'\"', '\"'\"'\\n'\"'\"');f.close();exec(compile(code, __file__, '\"'\"'exec'\"'\"'))' install --record 'C:\\Users\\katay\\AppData\\Local\\Temp\\pip-record-a4cgi4j7\\install-record.txt' --single-version-externally-managed --compile:\n",
      "    ERROR: running install\n",
      "    running build\n",
      "    running build_py\n",
      "    creating build\n",
      "    creating build\\lib\n",
      "    creating build\\lib\\prophet\n",
      "    creating build\\lib\\prophet\\stan_model\n",
      "    C:\\Users\\katay\\Anaconda3\\lib\\site-packages\\pandas\\compat\\_optional.py:138: UserWarning: Pandas requires version '2.7.0' or newer of 'numexpr' (version '2.6.9' currently installed).\n",
      "      warnings.warn(msg, UserWarning)\n",
      "    INFO:pystan:COMPILING THE C++ CODE FOR MODEL anon_model_f5236004a3fd5b8429270d00efcc0cf9 NOW.\n",
      "    WARNING:pystan:MSVC compiler is not supported\n",
      "    error: Microsoft Visual C++ 14.0 is required. Get it with \"Build Tools for Visual Studio\": https://visualstudio.microsoft.com/downloads/\n",
      "    ----------------------------------------\n",
      "ERROR: Command \"'C:\\Users\\katay\\Anaconda3\\python.exe' -u -c 'import setuptools, tokenize;__file__='\"'\"'C:\\\\Users\\\\katay\\\\AppData\\\\Local\\\\Temp\\\\pip-install-lim5jn8_\\\\prophet\\\\setup.py'\"'\"';f=getattr(tokenize, '\"'\"'open'\"'\"', open)(__file__);code=f.read().replace('\"'\"'\\r\\n'\"'\"', '\"'\"'\\n'\"'\"');f.close();exec(compile(code, __file__, '\"'\"'exec'\"'\"'))' install --record 'C:\\Users\\katay\\AppData\\Local\\Temp\\pip-record-a4cgi4j7\\install-record.txt' --single-version-externally-managed --compile\" failed with error code 1 in C:\\Users\\katay\\AppData\\Local\\Temp\\pip-install-lim5jn8_\\prophet\\\n"
     ]
    }
   ],
   "source": [
    "#!pip install --upgrade plotly\n",
    "!pip install pystan==2.19.1.1 prophet"
   ]
  },
  {
   "cell_type": "code",
   "execution_count": 6,
   "metadata": {},
   "outputs": [
    {
     "ename": "ModuleNotFoundError",
     "evalue": "No module named 'prophet'",
     "output_type": "error",
     "traceback": [
      "\u001b[1;31m---------------------------------------------------------------------------\u001b[0m",
      "\u001b[1;31mModuleNotFoundError\u001b[0m                       Traceback (most recent call last)",
      "\u001b[1;32m<ipython-input-6-a5f73520e9d5>\u001b[0m in \u001b[0;36m<module>\u001b[1;34m\u001b[0m\n\u001b[1;32m----> 1\u001b[1;33m \u001b[1;32mfrom\u001b[0m \u001b[0mprophet\u001b[0m \u001b[1;32mimport\u001b[0m \u001b[0mProphet\u001b[0m\u001b[1;33m\u001b[0m\u001b[1;33m\u001b[0m\u001b[0m\n\u001b[0m",
      "\u001b[1;31mModuleNotFoundError\u001b[0m: No module named 'prophet'"
     ]
    }
   ],
   "source": [
    "from prophet import Prophet"
   ]
  },
  {
   "cell_type": "code",
   "execution_count": null,
   "metadata": {
    "scrolled": true
   },
   "outputs": [],
   "source": [
    "import numpy as np\n",
    "import pandas as pd\n",
    "import matplotlib.pyplot as plt\n",
    "import seaborn as sns\n",
    "from  scipy import stats\n",
    "!pip install prophet\n",
    "url='https://drive.google.com/file/d/1IHLUqlQuSVMiKjnEb3EVTkzIjF413-Bl/view?usp=sharing'\n",
    "url2='https://drive.google.com/uc?id=' + url.split('/')[-2]\n",
    "data = pd.read_csv(url2)\n",
    "data.head()\n"
   ]
  },
  {
   "cell_type": "code",
   "execution_count": null,
   "metadata": {},
   "outputs": [],
   "source": [
    "categorical=[col for col in data.columns if data[col].dtype==\"object\"]\n",
    "for i,j in enumerate(categorical):\n",
    "    print(\"{0}: {1} has the unique elements:{2}\".format(i+1,j,data[j].unique()))"
   ]
  },
  {
   "cell_type": "code",
   "execution_count": null,
   "metadata": {},
   "outputs": [],
   "source": [
    "#to check missing values\n",
    "data.isnull().any() "
   ]
  },
  {
   "cell_type": "code",
   "execution_count": null,
   "metadata": {},
   "outputs": [],
   "source": [
    "data.drop(['Column1', 'Column2','Column3', 'Column4'], axis = 1, inplace = True)"
   ]
  },
  {
   "cell_type": "code",
   "execution_count": null,
   "metadata": {
    "scrolled": false
   },
   "outputs": [],
   "source": [
    "# check each field in the data\n",
    "data.describe()"
   ]
  },
  {
   "cell_type": "markdown",
   "metadata": {},
   "source": [
    "#### <span style=\"color:#bf616a\">Note:</span>\n",
    "#### <span style=\"color:#5e81ac\">What is a reaction? num_reactions = SUM of (num_likes,num_loves,num_wows,num_hahas,num_sads,num_angrys)</span>\n"
   ]
  },
  {
   "cell_type": "code",
   "execution_count": null,
   "metadata": {},
   "outputs": [],
   "source": [
    "# group by type, get mean and max value of num_shares.\n",
    "shares_per_type = data.groupby('status_type').agg({'num_shares': ['mean', 'max']})\n",
    "print(shares_per_type)\n"
   ]
  },
  {
   "cell_type": "markdown",
   "metadata": {},
   "source": [
    "#### <span style=\"color:#5e81ac\">=================Data visiualization to get a better idea of the data==============</span>"
   ]
  },
  {
   "cell_type": "code",
   "execution_count": null,
   "metadata": {},
   "outputs": [],
   "source": [
    "#num of reactions by status type\n",
    "\n",
    "reactions_percentage=data.groupby(\"status_type\")[\"num_reactions\"].count()\n",
    "colors = [\"#babeee\",\"#7573b6\",\"#ecf4be\",\"#90d2c3\"]\n",
    "fig,ax=plt.subplots(figsize=(15,8))\n",
    "reactions_percentage.plot.pie(ax=ax,colors=colors,autopct=\"%0.1f%%\",fontsize=20)"
   ]
  },
  {
   "cell_type": "code",
   "execution_count": null,
   "metadata": {},
   "outputs": [],
   "source": [
    "sns.set()\n",
    "fig,ax=plt.subplots(figsize=(10,8))\n",
    "test=data.groupby(\"status_type\")[\"num_shares\"].max()\n",
    "test=test/sum(test)*100\n",
    "color=[\"#58508d\",\"#bc5090\",\"#ff6361\",\"#ffa600\"]\n",
    "ax.bar(test.index,test.values,color=color,alpha=0.8)\n",
    "ax.set_xlabel(\"Status Type\",fontsize=15)\n",
    "ax.set_ylabel(\"Shares\",fontsize=15)\n",
    "ax.set_title(\"Distribution of Shares and Types\",fontsize=18)\n"
   ]
  },
  {
   "cell_type": "markdown",
   "metadata": {},
   "source": [
    "#### <span style=\"color:#bf616a\">Note:</span>\n",
    "#### <span style=\"color:#5e81ac\">Photo and Video have more shares.</span>"
   ]
  },
  {
   "cell_type": "code",
   "execution_count": null,
   "metadata": {},
   "outputs": [],
   "source": [
    "cor_matrix = data.corr()\n",
    "round(cor_matrix,2)"
   ]
  },
  {
   "cell_type": "code",
   "execution_count": null,
   "metadata": {
    "scrolled": true
   },
   "outputs": [],
   "source": [
    "sns.heatmap(cor_matrix);"
   ]
  },
  {
   "cell_type": "markdown",
   "metadata": {},
   "source": [
    "#### <span style=\"color:#bf616a\">Note:</span>\n",
    "#### <span style=\"color:#5e81ac\">There is high correlation between number of reactions (num_reactions) and number of likes (num_likes) - around 99%</span>\n",
    "#### <span style=\"color:#5e81ac\"> Pretty high correlation between number of loves (num_loves) and number of shares (num_shares) - around 0.82%</span>\n",
    "#### <span style=\"color:#5e81ac\">Another high correlation between number of shares (num_shares) and number of comments (num_comments) - around 0.64%</span>\n"
   ]
  },
  {
   "cell_type": "code",
   "execution_count": null,
   "metadata": {},
   "outputs": [],
   "source": [
    "#print(data);"
   ]
  },
  {
   "cell_type": "code",
   "execution_count": null,
   "metadata": {},
   "outputs": [],
   "source": [
    "data[\"Date_time\"] = data[\"status_published\"].astype(\"datetime64[ns]\")\n",
    "#data['MM-DD'] = data['Date_time'].dt.strftime('%m-%d');\n",
    "data[\"day_time\"] = pd.cut(pd.to_datetime(data.Date_time).dt.hour,\n",
    "bins=[0, 6, 12, 18, 24],\n",
    "labels=[\"night\", \"morning\", \"afternoo\", \"evening\"],\n",
    "right=False,\n",
    "include_lowest=True)\n"
   ]
  },
  {
   "cell_type": "code",
   "execution_count": null,
   "metadata": {},
   "outputs": [],
   "source": [
    "print(data)"
   ]
  },
  {
   "cell_type": "code",
   "execution_count": null,
   "metadata": {},
   "outputs": [],
   "source": [
    "sns.set()\n",
    "fig,ax=plt.subplots(figsize=(10,8))\n",
    "dayplot=data.groupby(\"day_time\")['num_reactions'].count()\n",
    "dayplot=dayplot/sum(dayplot)*100\n",
    "color=[\"#a3be8c\",\"#b48ead\",\"#bf616a\",\"#ebcb8b\"]\n",
    "ax.bar(dayplot.index,dayplot.values,color=color,alpha=0.7)\n",
    "for i in ax.patches:\n",
    "    ax.text(i.get_x()+0.25,i.get_height()+0.2,str(round(i.get_height(),2))+\"%\")\n",
    "ax.set_xlabel(\"Times of Day\")\n",
    "ax.set_ylabel(\"percentage\")\n",
    "ax.set_title(\"Distribution of Reactions during different parts of the day\",fontsize=15)\n"
   ]
  },
  {
   "cell_type": "markdown",
   "metadata": {},
   "source": [
    "####  <span style=\"color:#bf616a\">Suggestion:</span> <span style=\"color:#5e81ac\">The historical data shows more reactions in the Morning and Night, would be a good idea to post more in the morning and night.</span>\n",
    "####  <span style=\"color:#bf616a\">Future work:</span> <span style=\"color:#5e81ac\">Try to brakdown by hour / weekdays / weekend / Month to find the best time to post or boost.</span>"
   ]
  },
  {
   "cell_type": "code",
   "execution_count": null,
   "metadata": {},
   "outputs": [],
   "source": [
    "# group by day_time, get mean and max value of num_reactions.\n",
    "reaction_per_dat_time = data.groupby('day_time').agg({'num_reactions': ['mean', 'max']})\n",
    "print(reaction_per_dat_time)"
   ]
  },
  {
   "cell_type": "code",
   "execution_count": null,
   "metadata": {},
   "outputs": [],
   "source": [
    "len(data)"
   ]
  },
  {
   "cell_type": "code",
   "execution_count": null,
   "metadata": {},
   "outputs": [],
   "source": [
    "df_train=data[0:500]\n",
    "df_test=data[500:1000]"
   ]
  },
  {
   "cell_type": "code",
   "execution_count": null,
   "metadata": {},
   "outputs": [],
   "source": [
    "len(df_train)"
   ]
  },
  {
   "cell_type": "code",
   "execution_count": null,
   "metadata": {},
   "outputs": [],
   "source": [
    "len(df_test)"
   ]
  },
  {
   "cell_type": "code",
   "execution_count": null,
   "metadata": {},
   "outputs": [],
   "source": [
    "from prophet import Prophet\n",
    "m = Prophet()\n",
    "m.fit(df_train)"
   ]
  },
  {
   "cell_type": "code",
   "execution_count": null,
   "metadata": {},
   "outputs": [],
   "source": []
  }
 ],
 "metadata": {
  "kernelspec": {
   "display_name": "Python 3",
   "language": "python",
   "name": "python3"
  },
  "language_info": {
   "codemirror_mode": {
    "name": "ipython",
    "version": 3
   },
   "file_extension": ".py",
   "mimetype": "text/x-python",
   "name": "python",
   "nbconvert_exporter": "python",
   "pygments_lexer": "ipython3",
   "version": "3.7.3"
  }
 },
 "nbformat": 4,
 "nbformat_minor": 2
}
